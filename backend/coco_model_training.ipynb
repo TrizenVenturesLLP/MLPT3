{
  "nbformat": 4,
  "nbformat_minor": 0,
  "metadata": {
    "colab": {
      "provenance": []
    },
    "kernelspec": {
      "name": "python3",
      "display_name": "Python 3"
    },
    "language_info": {
      "name": "python"
    }
  },
  "cells": [
    {
      "cell_type": "code",
      "source": [
        "import pandas as pd\n",
        "import joblib\n",
        "from sklearn.preprocessing import MinMaxScaler\n",
        "from sklearn.ensemble import ExtraTreesRegressor\n",
        "\n",
        "# Load dataset\n",
        "df = pd.read_csv(\"/content/cocomo811.csv\")\n",
        "\n",
        "# Define target column\n",
        "target_column = \"actual\"  # Change to actual target column name\n",
        "X = df.drop(columns=[target_column])\n",
        "y = df[target_column]\n",
        "\n",
        "# Store Min-Max values\n",
        "min_vals = X.min()\n",
        "max_vals = X.max()\n",
        "min_max_dict = {\"min\": min_vals, \"max\": max_vals}\n",
        "joblib.dump(min_max_dict, \"min_max.pkl\")\n",
        "\n",
        "# Apply Min-Max Scaling\n",
        "scaler = MinMaxScaler()\n",
        "X_scaled = scaler.fit_transform(X)\n",
        "\n",
        "# Train Extra Trees Model\n",
        "model = ExtraTreesRegressor(n_estimators=100, random_state=42)\n",
        "model.fit(X_scaled, y)\n",
        "\n",
        "# Save the trained model\n",
        "joblib.dump(model, \"extra_trees_model.pkl\")\n",
        "\n",
        "print(\"Model and Min-Max values saved successfully.\")\n",
        "\n",
        "# -------------------- PREDICTION --------------------\n",
        "print(df.columns)\n"
      ],
      "metadata": {
        "colab": {
          "base_uri": "https://localhost:8080/"
        },
        "id": "Yb6aS8iSNfrw",
        "outputId": "af290410-ebb9-4a8d-e79e-c69c70a9ef2e"
      },
      "execution_count": 14,
      "outputs": [
        {
          "output_type": "stream",
          "name": "stdout",
          "text": [
            "Model and Min-Max values saved successfully.\n",
            "Index(['rely', 'data', 'cplx', 'time', 'stor', 'virt', 'turn', 'acap', 'aexp',\n",
            "       'pcap', 'vexp', 'lexp', 'modp', 'tool', 'sced', 'loc', 'actual'],\n",
            "      dtype='object')\n"
          ]
        }
      ]
    },
    {
      "cell_type": "code",
      "source": [
        "import joblib\n",
        "\n",
        "# Load the trained Extra Trees model and Min-Max scaling values\n",
        "model = joblib.load(\"extra_trees_model.pkl\")\n",
        "min_max_dict = joblib.load(\"min_max.pkl\")\n",
        "\n",
        "# Ask for user input within the Min-Max range and scale it\n",
        "user_input = []\n",
        "# Column names are required, make sure to match them with those in your model\n",
        "columns = ['rely', 'data', 'cplx', 'time', 'stor', 'virt', 'turn', 'acap', 'aexp','pcap', 'vexp', 'lexp', 'modp', 'tool', 'sced', 'loc']\n",
        "for col in columns:\n",
        "    val = float(input(f\"Enter {col} value ({min_max_dict['min'][col]} to {min_max_dict['max'][col]}): \"))\n",
        "    # Scale the input value using Min-Max scaling formula\n",
        "    scaled_val = (val - min_max_dict['min'][col]) / (min_max_dict['max'][col] - min_max_dict['min'][col])\n",
        "    user_input.append(scaled_val)\n",
        "\n",
        "# Ensure that the user input matches the number of features\n",
        "if len(user_input) == len(columns):\n",
        "    # Predict actual output\n",
        "    predicted = model.predict([user_input])[0]\n",
        "    print(\"\\nPredicted Actual Output:\", predicted)\n",
        "else:\n",
        "    print(\"Error: The number of input features does not match the number of columns.\")\n"
      ],
      "metadata": {
        "colab": {
          "base_uri": "https://localhost:8080/"
        },
        "id": "mXkwv1gCN9pp",
        "outputId": "2dd995d9-0ea5-4ae9-9d6a-fa3fa42be15c"
      },
      "execution_count": 16,
      "outputs": [
        {
          "output_type": "stream",
          "name": "stdout",
          "text": [
            "Enter rely value (0.75 to 1.4): 088\n",
            "Enter data value (0.94 to 1.16): 1.09\n",
            "Enter cplx value (0.7 to 1.65): 1.21\n",
            "Enter time value (1.0 to 1.66): 1.43\n",
            "Enter stor value (1.0 to 1.56): 1.45\n",
            "Enter virt value (0.87 to 1.3): 1.21\n",
            "Enter turn value (0.87 to 1.15): 1.09\n",
            "Enter acap value (0.71 to 1.46): 1.34\n",
            "Enter aexp value (0.82 to 1.29): 1.12\n",
            "Enter pcap value (0.7 to 1.42): 1.38\n",
            "Enter vexp value (0.9 to 1.21): 1.19\n",
            "Enter lexp value (0.95 to 1.14): 1.09\n",
            "Enter modp value (0.82 to 1.24): 1.21\n",
            "Enter tool value (0.83 to 1.24): 1.21\n",
            "Enter sced value (1.0 to 1.23): 1.21\n",
            "Enter loc value (1.98 to 1150.0): 678.90\n",
            "\n",
            "Predicted Actual Output: 9118.98\n"
          ]
        }
      ]
    },
    {
      "cell_type": "code",
      "source": [],
      "metadata": {
        "id": "Bu93dTbwSiDP"
      },
      "execution_count": null,
      "outputs": []
    }
  ]
}